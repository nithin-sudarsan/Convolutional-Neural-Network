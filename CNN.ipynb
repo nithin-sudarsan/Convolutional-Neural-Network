{
 "cells": [
  {
   "cell_type": "code",
   "execution_count": 5,
   "metadata": {},
   "outputs": [],
   "source": [
    "class Layer:\n",
    "    def __init__(self):\n",
    "        self.input = None\n",
    "        self.output = None\n",
    "    def forward(self, input):\n",
    "        pass\n",
    "    def backward(self, output_gradient, learning_rate):\n",
    "        pass"
   ]
  },
  {
   "cell_type": "code",
   "execution_count": 10,
   "metadata": {},
   "outputs": [],
   "source": [
    "import numpy as np\n",
    "from scipy import signal\n",
    "\n",
    "class Convolutional(Layer):\n",
    "    def __init__(self, input_shape, kernel_size, depth): \n",
    "        # Lets say input is a RGB image of dimension 24 pixels (height) * 24 pixels (width)\n",
    "        # So input_shape is 3 * 24 * 24\n",
    "        # For simplicity, let's consider kernel_size is 2 * 2\n",
    "        # Depth is the number of kernels we're using in each layer of the kernel\n",
    "        input_depth, input_height, input_width = input_shape\n",
    "        self.depth = depth\n",
    "        self.input_shape = input_shape\n",
    "        self.input_depth = input_depth\n",
    "        # Now output shape can be calculated using the formula Y = I - K + 1 on height and width of the input shape\n",
    "        # Here Y is the shape of output matrix, I is the shape of input matrix and K is the shape of kernel\n",
    "        self.output_shape = (depth, input_height - kernel_size + 1, input_width - kernel_size +1)\n",
    "        # Lets say there are 2 layers of kernel and we know the depth of input image (input_depth) is 3, then depth is 2\n",
    "        # Then the overall kernel shape is dept(2) * input_depth (3) * kernel_size(2*2) * kernel_size(2*2)\n",
    "        self.kernels_shape = (depth, input_depth, kernel_size, kernel_size)\n",
    "        self.kernels = np.random.randn(*self.kernels_shape)\n",
    "        self.biases = np.random.randn(*self.output_shape)\n",
    "\n",
    "    def forward(self, input):\n",
    "        self.input = input\n",
    "        self.output = np.copy(self.biases)\n",
    "        for i in range(self.depth): # In this case 2 (number of kernel layers)\n",
    "            for j in range(self.input_depth): # In this case 3 (number of color channels)\n",
    "                self.output[i] = signal.correlate2d(self.input[j], self.kernels[i,j], \"valid\")\n",
    "        return self.output\n",
    "\n"
   ]
  }
 ],
 "metadata": {
  "kernelspec": {
   "display_name": "Python 3",
   "language": "python",
   "name": "python3"
  },
  "language_info": {
   "codemirror_mode": {
    "name": "ipython",
    "version": 3
   },
   "file_extension": ".py",
   "mimetype": "text/x-python",
   "name": "python",
   "nbconvert_exporter": "python",
   "pygments_lexer": "ipython3",
   "version": "3.9.6"
  }
 },
 "nbformat": 4,
 "nbformat_minor": 2
}
